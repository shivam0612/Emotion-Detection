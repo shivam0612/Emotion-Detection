{
 "metadata": {
  "language_info": {
   "codemirror_mode": {
    "name": "ipython",
    "version": 3
   },
   "file_extension": ".py",
   "mimetype": "text/x-python",
   "name": "python",
   "nbconvert_exporter": "python",
   "pygments_lexer": "ipython3",
   "version": "3.8.6-final"
  },
  "orig_nbformat": 2,
  "kernelspec": {
   "name": "python3",
   "display_name": "Python 3",
   "language": "python"
  }
 },
 "nbformat": 4,
 "nbformat_minor": 2,
 "cells": [
  {
   "cell_type": "code",
   "execution_count": 1,
   "metadata": {},
   "outputs": [],
   "source": [
    "import cv2\n",
    "import os\n",
    "import numpy as np\n",
    "from sklearn.model_selection import train_test_split\n",
    "from sklearn.preprocessing import LabelEncoder\n",
    "from keras.utils import np_utils\n",
    "import tensorflow as tf\n",
    "from tensorflow.keras.models import Sequential\n",
    "from keras.callbacks import ModelCheckpoint\n",
    "from keras.layers import Dense, Dropout, Flatten\n",
    "from keras.layers import Conv2D, MaxPooling2D\n",
    "from tensorflow.keras.optimizers import Adam\n",
    "from keras.models import load_model"
   ]
  },
  {
   "cell_type": "code",
   "execution_count": 2,
   "metadata": {},
   "outputs": [],
   "source": [
    "images=[]\n",
    "targets=[]\n",
    "\n",
    "angry= r'D:\\Shivam\\Projects\\ML & AI\\Emotion Detection\\Dataset\\angry'\n",
    "happy=r'D:\\Shivam\\Projects\\ML & AI\\Emotion Detection\\Dataset\\happy'\n",
    "sad=r'D:\\Shivam\\Projects\\ML & AI\\Emotion Detection\\Dataset\\sad'\n",
    "neutral=r'D:\\Shivam\\Projects\\ML & AI\\Emotion Detection\\Dataset\\neutral'\n",
    "surprise=r'D:\\Shivam\\Projects\\ML & AI\\Emotion Detection\\Dataset\\surprise'\n",
    "\n",
    "# angry : 1, happy : 2, sad : 3,neutral : 4, sueprise : 5"
   ]
  },
  {
   "cell_type": "code",
   "execution_count": 3,
   "metadata": {},
   "outputs": [],
   "source": [
    "content=os.listdir(angry)\n",
    "\n",
    "for image in content:\n",
    "    try:\n",
    "        image_path=angry + '\\\\'+ image\n",
    "        image=cv2.imread(image_path)\n",
    "        image_grey=cv2.cvtColor(image,cv2.COLOR_BGR2GRAY)\n",
    "        resized_image=cv2.resize(image_grey,(100,100))\n",
    "        images.append(resized_image)\n",
    "        targets.append(1)\n",
    "    except Exception as e:\n",
    "        print(\"exception\", e)"
   ]
  },
  {
   "cell_type": "code",
   "execution_count": 4,
   "metadata": {},
   "outputs": [],
   "source": [
    "content=os.listdir(happy)\n",
    "\n",
    "for image in content:\n",
    "    try:\n",
    "        image_path=happy + '\\\\'+ image\n",
    "        image=cv2.imread(image_path)\n",
    "        image_grey=cv2.cvtColor(image,cv2.COLOR_BGR2GRAY)\n",
    "        resized_image=cv2.resize(image_grey,(100,100))\n",
    "        images.append(resized_image)\n",
    "        targets.append(2)\n",
    "    except Exception as e:\n",
    "        print(\"exception\", e)"
   ]
  },
  {
   "cell_type": "code",
   "execution_count": 5,
   "metadata": {},
   "outputs": [],
   "source": [
    "content=os.listdir(sad)\n",
    "\n",
    "for image in content:\n",
    "    try:\n",
    "        image_path=sad + '\\\\'+ image\n",
    "        image=cv2.imread(image_path)\n",
    "        image_grey=cv2.cvtColor(image,cv2.COLOR_BGR2GRAY)\n",
    "        resized_image=cv2.resize(image_grey,(100,100))\n",
    "        images.append(resized_image)\n",
    "        targets.append(3)\n",
    "    except Exception as e:\n",
    "        print(\"exception\", e)"
   ]
  },
  {
   "cell_type": "code",
   "execution_count": 6,
   "metadata": {},
   "outputs": [],
   "source": [
    "content=os.listdir(neutral)\n",
    "\n",
    "for image in content:\n",
    "    try:\n",
    "        image_path=neutral + '\\\\'+ image\n",
    "        image=cv2.imread(image_path)\n",
    "        image_grey=cv2.cvtColor(image,cv2.COLOR_BGR2GRAY)\n",
    "        resized_image=cv2.resize(image_grey,(100,100))\n",
    "        images.append(resized_image)\n",
    "        targets.append(4)\n",
    "    except Exception as e:\n",
    "        print(\"exception\", e)"
   ]
  },
  {
   "cell_type": "code",
   "execution_count": 7,
   "metadata": {},
   "outputs": [],
   "source": [
    "content=os.listdir(surprise)\n",
    "\n",
    "for image in content:\n",
    "    try:\n",
    "        image_path=surprise + '\\\\'+ image\n",
    "        image=cv2.imread(image_path)\n",
    "        image_grey=cv2.cvtColor(image,cv2.COLOR_BGR2GRAY)\n",
    "        resized_image=cv2.resize(image_grey,(100,100))\n",
    "        images.append(resized_image)\n",
    "        targets.append(5)\n",
    "    except Exception as e:\n",
    "        print(\"exception\", e)"
   ]
  },
  {
   "cell_type": "code",
   "execution_count": 8,
   "metadata": {},
   "outputs": [
    {
     "output_type": "execute_result",
     "data": {
      "text/plain": [
       "(30219, 30219)"
      ]
     },
     "metadata": {},
     "execution_count": 8
    }
   ],
   "source": [
    "len(images), len(targets)"
   ]
  },
  {
   "cell_type": "code",
   "execution_count": 13,
   "metadata": {},
   "outputs": [],
   "source": [
    "images = np.array(images)/255.0\n",
    "images = np.resize(images, (30219, 100, 100, 1))"
   ]
  },
  {
   "cell_type": "code",
   "execution_count": null,
   "metadata": {},
   "outputs": [],
   "source": [
    "targets = np_utils.to_categorical(targets)"
   ]
  },
  {
   "cell_type": "code",
   "execution_count": null,
   "metadata": {},
   "outputs": [],
   "source": [
    "X_train, X_test, Y_train, Y_test = train_test_split(images, targets, test_size=0.3)"
   ]
  },
  {
   "cell_type": "code",
   "execution_count": null,
   "metadata": {},
   "outputs": [],
   "source": []
  }
 ]
}