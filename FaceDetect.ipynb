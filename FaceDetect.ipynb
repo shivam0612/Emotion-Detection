{
 "cells": [
  {
   "cell_type": "code",
   "execution_count": 1,
   "metadata": {},
   "outputs": [],
   "source": [
    "import cv2\n",
    "import os"
   ]
  },
  {
   "cell_type": "code",
   "execution_count": 2,
   "metadata": {},
   "outputs": [],
   "source": [
    "images=[]\n",
    "targets=[]"
   ]
  },
  {
   "cell_type": "code",
   "execution_count": 3,
   "metadata": {},
   "outputs": [],
   "source": [
    "prefix_dir_angry= r'C:/Users/mukhe/Facedetection/images/train/angry'\n",
    "prefix_dir_disgust=r'C:/Users/mukhe/Facedetection/images/train/disgust'\n",
    "prefix_dir_fear=r'C:/Users/mukhe/Facedetection/images/train/fear'\n",
    "prefix_dir_happy=r'C:/Users/mukhe/Facedetection/images/train/happy'\n",
    "prefix_dir_neutral=r'C:/Users/mukhe/Facedetection/images/train/neutral'\n",
    "prefix_dir_sad=r'C:/Users/mukhe/Facedetection/images/train/sad'\n",
    "prefix_dir_surprise=r'C:/Users/mukhe/Facedetection/images/train/surprise'"
   ]
  },
  {
   "cell_type": "code",
   "execution_count": 4,
   "metadata": {},
   "outputs": [],
   "source": [
    "content=os.listdir(prefix_dir_angry)\n",
    "\n",
    "for image in content:\n",
    "    try:\n",
    "        image_path=prefix_dir_angry + '/'+ image\n",
    "        image=cv2.imread(image_path)\n",
    "        image_grey=cv2.cvtColor(image,cv2.COLOR_BGR2GRAY)\n",
    "        resized_image=cv2.resize(image_grey,(100,100))\n",
    "        images.append(resized_image)\n",
    "        targets.append(\"angry\")\n",
    "    except Exception as e:\n",
    "        print(\"exception\", e)\n",
    "\n"
   ]
  },
  {
   "cell_type": "code",
   "execution_count": 5,
   "metadata": {},
   "outputs": [],
   "source": [
    "content=os.listdir(prefix_dir_disgust)\n",
    "\n",
    "for image in content:\n",
    "    try:\n",
    "        image_path=prefix_dir_disgust + '/'+ image\n",
    "        image=cv2.imread(image_path)\n",
    "        image_grey=cv2.cvtColor(image,cv2.COLOR_BGR2GRAY)\n",
    "        resized_image=cv2.resize(image_grey,(100,100))\n",
    "        images.append(resized_image)\n",
    "        targets.append(\"disgust\")\n",
    "    except Exception as e:\n",
    "        print(\"exception\", e)"
   ]
  },
  {
   "cell_type": "code",
   "execution_count": 6,
   "metadata": {},
   "outputs": [],
   "source": [
    "content=os.listdir(prefix_dir_fear)\n",
    "\n",
    "for image in content:\n",
    "    try:\n",
    "        image_path=prefix_dir_fear + '/'+ image\n",
    "        image=cv2.imread(image_path)\n",
    "        image_grey=cv2.cvtColor(image,cv2.COLOR_BGR2GRAY)\n",
    "        resized_image=cv2.resize(image_grey,(100,100))\n",
    "        images.append(resized_image)\n",
    "        targets.append(\"fear\")\n",
    "    except Exception as e:\n",
    "        print(\"exception\", e)"
   ]
  },
  {
   "cell_type": "code",
   "execution_count": 7,
   "metadata": {},
   "outputs": [],
   "source": [
    "content=os.listdir(prefix_dir_happy)\n",
    "\n",
    "for image in content:\n",
    "    try:\n",
    "        image_path=prefix_dir_happy + '/'+ image\n",
    "        image=cv2.imread(image_path)\n",
    "        image_grey=cv2.cvtColor(image,cv2.COLOR_BGR2GRAY)\n",
    "        resized_image=cv2.resize(image_grey,(100,100))\n",
    "        images.append(resized_image)\n",
    "        targets.append(\"happy\")\n",
    "    except Exception as e:\n",
    "        print(\"exception\", e)"
   ]
  },
  {
   "cell_type": "code",
   "execution_count": 8,
   "metadata": {},
   "outputs": [],
   "source": [
    "content=os.listdir(prefix_dir_neutral)\n",
    "\n",
    "for image in content:\n",
    "    try:\n",
    "        image_path=prefix_dir_neutral + '/'+ image\n",
    "        image=cv2.imread(image_path)\n",
    "        image_grey=cv2.cvtColor(image,cv2.COLOR_BGR2GRAY)\n",
    "        resized_image=cv2.resize(image_grey,(100,100))\n",
    "        images.append(resized_image)\n",
    "        targets.append(\"neutral\")\n",
    "    except Exception as e:\n",
    "        print(\"exception\", e)"
   ]
  },
  {
   "cell_type": "code",
   "execution_count": 9,
   "metadata": {},
   "outputs": [],
   "source": [
    "content=os.listdir(prefix_dir_sad)\n",
    "\n",
    "for image in content:\n",
    "    try:\n",
    "        image_path=prefix_dir_sad + '/'+ image\n",
    "        image=cv2.imread(image_path)\n",
    "        image_grey=cv2.cvtColor(image,cv2.COLOR_BGR2GRAY)\n",
    "        resized_image=cv2.resize(image_grey,(100,100))\n",
    "        images.append(resized_image)\n",
    "        targets.append(\"sad\")\n",
    "    except Exception as e:\n",
    "        print(\"exception\", e)"
   ]
  },
  {
   "cell_type": "code",
   "execution_count": 10,
   "metadata": {},
   "outputs": [],
   "source": [
    "content=os.listdir(prefix_dir_surprise)\n",
    "\n",
    "for image in content:\n",
    "    try:\n",
    "        image_path=prefix_dir_surprise + '/'+ image\n",
    "        image=cv2.imread(image_path)\n",
    "        image_grey=cv2.cvtColor(image,cv2.COLOR_BGR2GRAY)\n",
    "        resized_image=cv2.resize(image_grey,(100,100))\n",
    "        images.append(resized_image)\n",
    "        targets.append(\"surprise\")\n",
    "    except Exception as e:\n",
    "        print(\"exception\", e)"
   ]
  },
  {
   "cell_type": "code",
   "execution_count": 11,
   "metadata": {},
   "outputs": [],
   "source": [
    "import numpy as np"
   ]
  },
  {
   "cell_type": "code",
   "execution_count": 12,
   "metadata": {},
   "outputs": [],
   "source": [
    "X=np.array(images)\n",
    "Y=np.array(targets)"
   ]
  },
  {
   "cell_type": "code",
   "execution_count": 13,
   "metadata": {},
   "outputs": [],
   "source": [
    "from sklearn.model_selection import train_test_split"
   ]
  },
  {
   "cell_type": "code",
   "execution_count": 14,
   "metadata": {},
   "outputs": [],
   "source": [
    "X_train,X_test,Y_train,Y_test=train_test_split(X,Y,train_size=0.8)"
   ]
  },
  {
   "cell_type": "code",
   "execution_count": 15,
   "metadata": {},
   "outputs": [
    {
     "data": {
      "text/plain": [
       "3"
      ]
     },
     "execution_count": 15,
     "metadata": {},
     "output_type": "execute_result"
    }
   ],
   "source": [
    "X_train.ndim"
   ]
  },
  {
   "cell_type": "code",
   "execution_count": 16,
   "metadata": {},
   "outputs": [
    {
     "data": {
      "text/plain": [
       "(28709, 100, 100)"
      ]
     },
     "execution_count": 16,
     "metadata": {},
     "output_type": "execute_result"
    }
   ],
   "source": [
    "X_train.shape"
   ]
  },
  {
   "cell_type": "code",
   "execution_count": 17,
   "metadata": {},
   "outputs": [
    {
     "data": {
      "text/plain": [
       "287090000"
      ]
     },
     "execution_count": 17,
     "metadata": {},
     "output_type": "execute_result"
    }
   ],
   "source": [
    "X_train.size"
   ]
  },
  {
   "cell_type": "code",
   "execution_count": 18,
   "metadata": {},
   "outputs": [],
   "source": [
    "X_train=X_train.reshape(X_train.shape[0],100, 100, 1)\n",
    "X_test=X_test.reshape(X_test.shape[0],100,100,1)"
   ]
  },
  {
   "cell_type": "code",
   "execution_count": 19,
   "metadata": {},
   "outputs": [],
   "source": [
    "X_train=X_train/255"
   ]
  },
  {
   "cell_type": "code",
   "execution_count": 20,
   "metadata": {},
   "outputs": [],
   "source": [
    "X_test=X_test/255"
   ]
  },
  {
   "cell_type": "code",
   "execution_count": 21,
   "metadata": {},
   "outputs": [
    {
     "data": {
      "text/plain": [
       "array(['surprise', 'happy', 'happy', ..., 'surprise', 'angry', 'neutral'],\n",
       "      dtype='<U8')"
      ]
     },
     "execution_count": 21,
     "metadata": {},
     "output_type": "execute_result"
    }
   ],
   "source": [
    "Y_train"
   ]
  },
  {
   "cell_type": "code",
   "execution_count": 22,
   "metadata": {},
   "outputs": [],
   "source": [
    "from sklearn.preprocessing import LabelEncoder"
   ]
  },
  {
   "cell_type": "code",
   "execution_count": 23,
   "metadata": {},
   "outputs": [],
   "source": [
    "label_encoder = LabelEncoder()\n",
    "Y_train2 = label_encoder.fit_transform(Y_train)\n",
    "Y_test2=label_encoder.fit_transform(Y_test)"
   ]
  },
  {
   "cell_type": "code",
   "execution_count": 24,
   "metadata": {},
   "outputs": [
    {
     "data": {
      "text/plain": [
       "array([6, 3, 3, ..., 6, 0, 4], dtype=int64)"
      ]
     },
     "execution_count": 24,
     "metadata": {},
     "output_type": "execute_result"
    }
   ],
   "source": [
    "Y_train2"
   ]
  },
  {
   "cell_type": "code",
   "execution_count": 25,
   "metadata": {},
   "outputs": [],
   "source": [
    "from keras.utils import np_utils\n"
   ]
  },
  {
   "cell_type": "code",
   "execution_count": 26,
   "metadata": {},
   "outputs": [],
   "source": [
    "Y_train2=np_utils.to_categorical(Y_train2)"
   ]
  },
  {
   "cell_type": "code",
   "execution_count": 27,
   "metadata": {},
   "outputs": [
    {
     "data": {
      "text/plain": [
       "array([[0., 0., 0., ..., 0., 0., 1.],\n",
       "       [0., 0., 0., ..., 0., 0., 0.],\n",
       "       [0., 0., 0., ..., 0., 0., 0.],\n",
       "       ...,\n",
       "       [0., 0., 0., ..., 0., 0., 1.],\n",
       "       [1., 0., 0., ..., 0., 0., 0.],\n",
       "       [0., 0., 0., ..., 1., 0., 0.]], dtype=float32)"
      ]
     },
     "execution_count": 27,
     "metadata": {},
     "output_type": "execute_result"
    }
   ],
   "source": [
    "Y_train2"
   ]
  },
  {
   "cell_type": "code",
   "execution_count": 28,
   "metadata": {},
   "outputs": [],
   "source": [
    "import tensorflow as tf\n",
    "from tensorflow.keras.models import Sequential\n",
    "from keras.callbacks import ModelCheckpoint\n",
    "from keras.layers import Dense, Dropout, Flatten\n",
    "from keras.layers import Conv2D, MaxPooling2D\n",
    "from tensorflow.keras.optimizers import SGD"
   ]
  },
  {
   "cell_type": "code",
   "execution_count": 29,
   "metadata": {},
   "outputs": [
    {
     "name": "stdout",
     "output_type": "stream",
     "text": [
      "Epoch 1/15\n",
      "718/718 [==============================] - ETA: 0s - loss: 1.6854 - accuracy: 0.3328WARNING:tensorflow:From C:\\Users\\mukhe\\anaconda3\\lib\\site-packages\\tensorflow\\python\\training\\tracking\\tracking.py:111: Model.state_updates (from tensorflow.python.keras.engine.training) is deprecated and will be removed in a future version.\n",
      "Instructions for updating:\n",
      "This property should not be used in TensorFlow 2.0, as updates are applied automatically.\n",
      "WARNING:tensorflow:From C:\\Users\\mukhe\\anaconda3\\lib\\site-packages\\tensorflow\\python\\training\\tracking\\tracking.py:111: Layer.updates (from tensorflow.python.keras.engine.base_layer) is deprecated and will be removed in a future version.\n",
      "Instructions for updating:\n",
      "This property should not be used in TensorFlow 2.0, as updates are applied automatically.\n",
      "INFO:tensorflow:Assets written to: model-best\\assets\n",
      "718/718 [==============================] - 4075s 6s/step - loss: 1.6854 - accuracy: 0.3328 - val_loss: 1.6150 - val_accuracy: 0.3473\n",
      "Epoch 2/15\n",
      "718/718 [==============================] - ETA: 0s - loss: 1.4490 - accuracy: 0.4407INFO:tensorflow:Assets written to: model-best\\assets\n",
      "718/718 [==============================] - 3382s 5s/step - loss: 1.4490 - accuracy: 0.4407 - val_loss: 1.4168 - val_accuracy: 0.4446\n",
      "Epoch 3/15\n",
      "718/718 [==============================] - ETA: 0s - loss: 1.2852 - accuracy: 0.5100INFO:tensorflow:Assets written to: model-best\\assets\n",
      "718/718 [==============================] - 2901s 4s/step - loss: 1.2852 - accuracy: 0.5100 - val_loss: 1.3702 - val_accuracy: 0.4760\n",
      "Epoch 4/15\n",
      "718/718 [==============================] - 2687s 4s/step - loss: 1.1569 - accuracy: 0.5641 - val_loss: 1.3991 - val_accuracy: 0.4854\n",
      "Epoch 5/15\n",
      "718/718 [==============================] - 3778s 5s/step - loss: 1.0255 - accuracy: 0.6168 - val_loss: 1.4056 - val_accuracy: 0.4868\n",
      "Epoch 6/15\n",
      "718/718 [==============================] - 3197s 4s/step - loss: 0.8933 - accuracy: 0.6656 - val_loss: 1.4603 - val_accuracy: 0.4822\n",
      "Epoch 7/15\n",
      "718/718 [==============================] - 2968s 4s/step - loss: 0.7689 - accuracy: 0.7128 - val_loss: 1.5889 - val_accuracy: 0.4864\n",
      "Epoch 8/15\n",
      "718/718 [==============================] - 2250s 3s/step - loss: 0.6512 - accuracy: 0.7595 - val_loss: 1.7392 - val_accuracy: 0.4836\n",
      "Epoch 9/15\n",
      "718/718 [==============================] - 2260s 3s/step - loss: 0.5596 - accuracy: 0.7951 - val_loss: 1.8221 - val_accuracy: 0.4673\n",
      "Epoch 10/15\n",
      "718/718 [==============================] - 2247s 3s/step - loss: 0.4873 - accuracy: 0.8190 - val_loss: 1.9981 - val_accuracy: 0.4793\n",
      "Epoch 11/15\n",
      "718/718 [==============================] - 2237s 3s/step - loss: 0.4259 - accuracy: 0.8445 - val_loss: 2.1108 - val_accuracy: 0.4828\n",
      "Epoch 12/15\n",
      "718/718 [==============================] - 2243s 3s/step - loss: 0.3797 - accuracy: 0.8627 - val_loss: 2.3027 - val_accuracy: 0.4662\n",
      "Epoch 13/15\n",
      "718/718 [==============================] - 2240s 3s/step - loss: 0.3429 - accuracy: 0.8751 - val_loss: 2.5032 - val_accuracy: 0.4775\n",
      "Epoch 14/15\n",
      "718/718 [==============================] - 2240s 3s/step - loss: 0.3117 - accuracy: 0.8873 - val_loss: 2.5975 - val_accuracy: 0.4855\n",
      "Epoch 15/15\n",
      "718/718 [==============================] - 2238s 3s/step - loss: 0.2873 - accuracy: 0.8965 - val_loss: 2.7615 - val_accuracy: 0.4707\n"
     ]
    },
    {
     "data": {
      "text/plain": [
       "<tensorflow.python.keras.callbacks.History at 0x18cc313b1f0>"
      ]
     },
     "execution_count": 29,
     "metadata": {},
     "output_type": "execute_result"
    }
   ],
   "source": [
    "model= Sequential()\n",
    "model.add(Conv2D(200,(3,3), activation='relu'))\n",
    "model.add(Conv2D(150,(3,3),activation='relu'))\n",
    "model.add(MaxPooling2D(pool_size=(2,2)))\n",
    "\n",
    "model.add(Conv2D(100,(3,3),activation='relu'))\n",
    "model.add(MaxPooling2D(pool_size=(2,2)))\n",
    "\n",
    "model.add(Dropout((0.25)))\n",
    "model.add(Flatten())\n",
    "model.add(Dense(50,activation='relu'))\n",
    "model.add(Dense(7,activation='softmax'))\n",
    "\n",
    "model.compile(loss='categorical_crossentropy', optimizer='adam', metrics=['accuracy'])\n",
    "cp= ModelCheckpoint('model-best', verbose=0,save_best_only=True)\n",
    "model.fit(X_train,Y_train2, epochs=15 ,callbacks=[cp], validation_split=0.2)\n"
   ]
  },
  {
   "cell_type": "code",
   "execution_count": 30,
   "metadata": {},
   "outputs": [],
   "source": [
    "import cv2\n",
    "import numpy as np"
   ]
  },
  {
   "cell_type": "code",
   "execution_count": 31,
   "metadata": {},
   "outputs": [],
   "source": [
    "from keras.models import load_model"
   ]
  },
  {
   "cell_type": "code",
   "execution_count": 32,
   "metadata": {},
   "outputs": [],
   "source": [
    "model=load_model('model-best')"
   ]
  },
  {
   "cell_type": "code",
   "execution_count": 33,
   "metadata": {},
   "outputs": [],
   "source": [
    "face_detect=cv2.CascadeClassifier(r'C:\\Users\\mukhe\\anaconda3\\Lib\\site-packages\\cv2\\haarcascade_frontalface_default.xml')"
   ]
  },
  {
   "cell_type": "code",
   "execution_count": 37,
   "metadata": {},
   "outputs": [],
   "source": [
    "source=cv2.VideoCapture(0)\n",
    "\n",
    "while 1:\n",
    "    _,image=source.read()\n",
    "    gray=cv2.cvtColor(image,cv2.COLOR_BGR2GRAY)\n",
    "    faces=face_detect.detectMultiScale(gray,1.5,5)\n",
    "    for x,y,w,h in faces:\n",
    "        face_roi=gray[y:y+w, x:x+w]\n",
    "        resized_face=cv2.resize(face_roi,(100,100))\n",
    "        normalized_face=resized_face/255\n",
    "        reshaped_face=np.reshape(normalized_face,(1,100,100,1))\n",
    "        result=model.predict(reshaped_face)[0]\n",
    "        if np.amax(result)==result[0]:\n",
    "            cv2.rectangle(image,(x,y),(x+w,y+h),(255,0,0),2)\n",
    "            cv2.putText(image,\"Angry\",(x,y),cv2.FONT_HERSHEY_SIMPLEX,fontScale=1,color=(0,255,0),thickness=2)\n",
    "        if np.amax(result)==result[1]:\n",
    "            cv2.rectangle(image,(x,y),(x+w,y+h),(255,0,0),2)\n",
    "            cv2.putText(image,\"digusted\",(x,y),cv2.FONT_HERSHEY_SIMPLEX,fontScale=1,color=(0,255,0),thickness=2)\n",
    "        if np.amax(result)==result[2]:\n",
    "            cv2.rectangle(image,(x,y),(x+w,y+h),(255,0,0),2)\n",
    "            cv2.putText(image,\"fear\",(x,y),cv2.FONT_HERSHEY_SIMPLEX,fontScale=1,color=(0,255,0),thickness=2)\n",
    "        if np.amax(result)==result[3]:\n",
    "            cv2.rectangle(image,(x,y),(x+w,y+h),(255,0,0),2)\n",
    "            cv2.putText(image,\"happy\",(x,y),cv2.FONT_HERSHEY_SIMPLEX,fontScale=1,color=(0,255,0),thickness=2)\n",
    "        if np.amax(result)==result[4]:\n",
    "            cv2.rectangle(image,(x,y),(x+w,y+h),(255,0,0),2)\n",
    "            cv2.putText(image,\"neutral\",(x,y),cv2.FONT_HERSHEY_SIMPLEX,fontScale=1,color=(0,255,0),thickness=2)\n",
    "        if np.amax(result)==result[5]:\n",
    "            cv2.rectangle(image,(x,y),(x+w,y+h),(255,0,0),2)\n",
    "            cv2.putText(image,\"sad\",(x,y),cv2.FONT_HERSHEY_SIMPLEX,fontScale=1,color=(0,255,0),thickness=2)\n",
    "        if np.amax(result)==result[6]:\n",
    "            cv2.rectangle(image,(x,y),(x+w,y+h),(255,0,0),2)\n",
    "            cv2.putText(image,\"surprised\",(x,y),cv2.FONT_HERSHEY_SIMPLEX,fontScale=1,color=(0,255,0),thickness=2)\n",
    "       \n",
    "     \n",
    "    cv2.imshow('Emotion detection',image)\n",
    "    key=cv2.waitKey(1)\n",
    "    if key==27:\n",
    "        break\n",
    "        \n",
    "cv2.destroyAllWindows()\n",
    "source.release()"
   ]
  },
  {
   "cell_type": "code",
   "execution_count": null,
   "metadata": {},
   "outputs": [],
   "source": []
  }
 ],
 "metadata": {
  "kernelspec": {
   "display_name": "Python 3",
   "language": "python",
   "name": "python3"
  },
  "language_info": {
   "codemirror_mode": {
    "name": "ipython",
    "version": 3
   },
   "file_extension": ".py",
   "mimetype": "text/x-python",
   "name": "python",
   "nbconvert_exporter": "python",
   "pygments_lexer": "ipython3",
   "version": "3.8.5"
  }
 },
 "nbformat": 4,
 "nbformat_minor": 4
}
